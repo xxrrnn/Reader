{
 "cells": [
  {
   "cell_type": "code",
   "execution_count": 2,
   "id": "46d09863",
   "metadata": {},
   "outputs": [],
   "source": [
    "import json\n",
    "import os\n",
    "from datetime import date\n",
    "\n",
    "def save_dict_list(data, folder=\"./saved\"):\n",
    "    \"\"\"保存 dict list 到本地，文件名是今天的日期\"\"\"\n",
    "    os.makedirs(folder, exist_ok=True)\n",
    "    filename = os.path.join(folder, f\"{date.today().isoformat()}.json\")\n",
    "    with open(filename, \"w\", encoding=\"utf-8\") as f:\n",
    "        json.dump(data, f, ensure_ascii=False, indent=2)\n",
    "    return filename\n"
   ]
  },
  {
   "cell_type": "code",
   "execution_count": 1,
   "id": "f014dc41",
   "metadata": {},
   "outputs": [],
   "source": [
    "def load_dict_list(file):\n",
    "    \"\"\"读取保存的 dict list\"\"\"\n",
    "    if not os.path.exists(file):\n",
    "        return []\n",
    "    with open(file, \"r\", encoding=\"utf-8\") as f:\n",
    "        return json.load(f)\n"
   ]
  },
  {
   "cell_type": "code",
   "execution_count": 3,
   "id": "788dce2b",
   "metadata": {},
   "outputs": [],
   "source": [
    "def merge_and_deduplicate(old_list, new_list, key=\"word\"):\n",
    "    \"\"\"合并两个 list[dict] 并去重\"\"\"\n",
    "    seen = set()\n",
    "    merged = []\n",
    "    for item in old_list + new_list:\n",
    "        k = item.get(key)\n",
    "        if k not in seen:\n",
    "            seen.add(k)\n",
    "            merged.append(item)\n",
    "    return merged\n"
   ]
  }
 ],
 "metadata": {
  "kernelspec": {
   "display_name": "reader",
   "language": "python",
   "name": "python3"
  },
  "language_info": {
   "codemirror_mode": {
    "name": "ipython",
    "version": 3
   },
   "file_extension": ".py",
   "mimetype": "text/x-python",
   "name": "python",
   "nbconvert_exporter": "python",
   "pygments_lexer": "ipython3",
   "version": "3.12.11"
  }
 },
 "nbformat": 4,
 "nbformat_minor": 5
}
